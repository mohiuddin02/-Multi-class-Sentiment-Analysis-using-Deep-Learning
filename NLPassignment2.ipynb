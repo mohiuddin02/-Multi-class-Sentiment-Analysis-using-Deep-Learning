{
  "nbformat": 4,
  "nbformat_minor": 0,
  "metadata": {
    "colab": {
      "name": "NLPassignment2.ipynb",
      "provenance": [],
      "collapsed_sections": [],
      "machine_shape": "hm"
    },
    "kernelspec": {
      "name": "python3",
      "display_name": "Python 3"
    }
  },
  "cells": [
    {
      "cell_type": "code",
      "metadata": {
        "id": "sZrfJYm6BdmV",
        "colab_type": "code",
        "colab": {}
      },
      "source": [
        "import warnings\n",
        "warnings.filterwarnings('ignore')"
      ],
      "execution_count": 0,
      "outputs": []
    },
    {
      "cell_type": "code",
      "metadata": {
        "id": "xYQtEOK8BYEx",
        "colab_type": "code",
        "outputId": "8bbc8982-772c-4a05-d56a-180d2c324d67",
        "colab": {
          "base_uri": "https://localhost:8080/",
          "height": 418
        }
      },
      "source": [
        "import pandas as pd\n",
        "from sklearn.model_selection import train_test_split\n",
        "import numpy as np\n",
        "import nltk\n",
        "import random\n",
        "from nltk import FreqDist\n",
        "from nltk.corpus import stopwords\n",
        "from nltk.tokenize import word_tokenize\n",
        "from nltk.stem import WordNetLemmatizer, PorterStemmer, LancasterStemmer\n",
        "import re\n",
        "\n",
        "import keras\n",
        "!pip install keras-metrics\n",
        "import keras_metrics\n",
        "from keras.utils import to_categorical\n",
        "from keras.layers import Input, Dense, Embedding, Flatten, SpatialDropout1D\n",
        "from keras.layers.convolutional import Conv1D, MaxPooling1D\n",
        "from keras.models import Sequential\n",
        "from keras.preprocessing import sequence,text\n",
        "from keras.preprocessing.text import Tokenizer\n",
        "from keras.preprocessing.sequence import pad_sequences\n",
        "from keras.losses import categorical_crossentropy\n",
        "from keras.optimizers import Adamax\n",
        "from sklearn.metrics import accuracy_score,confusion_matrix,classification_report,f1_score\n",
        "\n",
        "nltk.download('punkt')\n",
        "nltk.download('stopwords')\n",
        "#nltk.download('movie_reviews')\n",
        "nltk.download('wordnet')\n",
        "#from nltk.corpus import movie_reviews"
      ],
      "execution_count": 0,
      "outputs": [
        {
          "output_type": "stream",
          "text": [
            "Using TensorFlow backend.\n"
          ],
          "name": "stderr"
        },
        {
          "output_type": "display_data",
          "data": {
            "text/html": [
              "<p style=\"color: red;\">\n",
              "The default version of TensorFlow in Colab will soon switch to TensorFlow 2.x.<br>\n",
              "We recommend you <a href=\"https://www.tensorflow.org/guide/migrate\" target=\"_blank\">upgrade</a> now \n",
              "or ensure your notebook will continue to use TensorFlow 1.x via the <code>%tensorflow_version 1.x</code> magic:\n",
              "<a href=\"https://colab.research.google.com/notebooks/tensorflow_version.ipynb\" target=\"_blank\">more info</a>.</p>\n"
            ],
            "text/plain": [
              "<IPython.core.display.HTML object>"
            ]
          },
          "metadata": {
            "tags": []
          }
        },
        {
          "output_type": "stream",
          "text": [
            "Collecting keras-metrics\n",
            "  Downloading https://files.pythonhosted.org/packages/32/c9/a87420da8e73de944e63a8e9cdcfb1f03ca31a7c4cdcdbd45d2cdf13275a/keras_metrics-1.1.0-py2.py3-none-any.whl\n",
            "Requirement already satisfied: Keras>=2.1.5 in /usr/local/lib/python3.6/dist-packages (from keras-metrics) (2.2.5)\n",
            "Requirement already satisfied: six>=1.9.0 in /usr/local/lib/python3.6/dist-packages (from Keras>=2.1.5->keras-metrics) (1.12.0)\n",
            "Requirement already satisfied: numpy>=1.9.1 in /usr/local/lib/python3.6/dist-packages (from Keras>=2.1.5->keras-metrics) (1.18.2)\n",
            "Requirement already satisfied: scipy>=0.14 in /usr/local/lib/python3.6/dist-packages (from Keras>=2.1.5->keras-metrics) (1.4.1)\n",
            "Requirement already satisfied: h5py in /usr/local/lib/python3.6/dist-packages (from Keras>=2.1.5->keras-metrics) (2.8.0)\n",
            "Requirement already satisfied: keras-applications>=1.0.8 in /usr/local/lib/python3.6/dist-packages (from Keras>=2.1.5->keras-metrics) (1.0.8)\n",
            "Requirement already satisfied: keras-preprocessing>=1.1.0 in /usr/local/lib/python3.6/dist-packages (from Keras>=2.1.5->keras-metrics) (1.1.0)\n",
            "Requirement already satisfied: pyyaml in /usr/local/lib/python3.6/dist-packages (from Keras>=2.1.5->keras-metrics) (3.13)\n",
            "Installing collected packages: keras-metrics\n",
            "Successfully installed keras-metrics-1.1.0\n",
            "[nltk_data] Downloading package punkt to /root/nltk_data...\n",
            "[nltk_data]   Unzipping tokenizers/punkt.zip.\n",
            "[nltk_data] Downloading package stopwords to /root/nltk_data...\n",
            "[nltk_data]   Unzipping corpora/stopwords.zip.\n",
            "[nltk_data] Downloading package wordnet to /root/nltk_data...\n",
            "[nltk_data]   Unzipping corpora/wordnet.zip.\n"
          ],
          "name": "stdout"
        },
        {
          "output_type": "execute_result",
          "data": {
            "text/plain": [
              "True"
            ]
          },
          "metadata": {
            "tags": []
          },
          "execution_count": 2
        }
      ]
    },
    {
      "cell_type": "code",
      "metadata": {
        "id": "h4i4QLH2BgyE",
        "colab_type": "code",
        "outputId": "3319a058-681b-437b-8717-59d04f773179",
        "colab": {
          "base_uri": "https://localhost:8080/",
          "height": 168
        }
      },
      "source": [
        "url = \"https://raw.githubusercontent.com/cacoderquan/Sentiment-Analysis-on-the-Rotten-Tomatoes-movie-review-dataset/master/train.tsv\"\n",
        "data = pd.read_csv(url, sep='\\t')\n",
        "print('Shape: ' , data.shape)\n",
        "data['Sentiment'].value_counts()\n",
        "print(data.head())\n",
        "del data['PhraseId']\n",
        "del data['SentenceId']"
      ],
      "execution_count": 0,
      "outputs": [
        {
          "output_type": "stream",
          "text": [
            "Shape:  (156060, 4)\n",
            "   PhraseId  ...  Sentiment\n",
            "0         1  ...          1\n",
            "1         2  ...          2\n",
            "2         3  ...          2\n",
            "3         4  ...          2\n",
            "4         5  ...          2\n",
            "\n",
            "[5 rows x 4 columns]\n"
          ],
          "name": "stdout"
        }
      ]
    },
    {
      "cell_type": "code",
      "metadata": {
        "id": "tjx9IMNWEmjd",
        "colab_type": "code",
        "colab": {}
      },
      "source": [
        "#porter = PorterStemmer()\n",
        "lancaster=LancasterStemmer()\n",
        "wordnet_lemmatizer = WordNetLemmatizer()\n",
        "from string import punctuation\n",
        "stopwords_en = stopwords.words(\"english\")"
      ],
      "execution_count": 0,
      "outputs": []
    },
    {
      "cell_type": "code",
      "metadata": {
        "id": "ILqNzpsTItEW",
        "colab_type": "code",
        "colab": {}
      },
      "source": [
        "def clean(Phrase):\n",
        "    document=[]\n",
        "    for i in range(len(Phrase)):\n",
        "        review=re.sub('[^a-zA-Z]',' ',str(Phrase[i]))\n",
        "        review=[wordnet_lemmatizer.lemmatize(w) for w in word_tokenize(str(review).lower())]\n",
        "        document.append(' '.join(review))\n",
        "    return document"
      ],
      "execution_count": 0,
      "outputs": []
    },
    {
      "cell_type": "code",
      "metadata": {
        "id": "GKoZPgjfOppK",
        "colab_type": "code",
        "outputId": "1b92f0bc-3706-4410-f3c4-45a400732093",
        "colab": {
          "base_uri": "https://localhost:8080/",
          "height": 195
        }
      },
      "source": [
        "data['Text']=clean(data['Phrase'])\n",
        "data.head()"
      ],
      "execution_count": 0,
      "outputs": [
        {
          "output_type": "execute_result",
          "data": {
            "text/html": [
              "<div>\n",
              "<style scoped>\n",
              "    .dataframe tbody tr th:only-of-type {\n",
              "        vertical-align: middle;\n",
              "    }\n",
              "\n",
              "    .dataframe tbody tr th {\n",
              "        vertical-align: top;\n",
              "    }\n",
              "\n",
              "    .dataframe thead th {\n",
              "        text-align: right;\n",
              "    }\n",
              "</style>\n",
              "<table border=\"1\" class=\"dataframe\">\n",
              "  <thead>\n",
              "    <tr style=\"text-align: right;\">\n",
              "      <th></th>\n",
              "      <th>Phrase</th>\n",
              "      <th>Sentiment</th>\n",
              "      <th>Text</th>\n",
              "    </tr>\n",
              "  </thead>\n",
              "  <tbody>\n",
              "    <tr>\n",
              "      <th>0</th>\n",
              "      <td>A series of escapades demonstrating the adage ...</td>\n",
              "      <td>1</td>\n",
              "      <td>a series of escapade demonstrating the adage t...</td>\n",
              "    </tr>\n",
              "    <tr>\n",
              "      <th>1</th>\n",
              "      <td>A series of escapades demonstrating the adage ...</td>\n",
              "      <td>2</td>\n",
              "      <td>a series of escapade demonstrating the adage t...</td>\n",
              "    </tr>\n",
              "    <tr>\n",
              "      <th>2</th>\n",
              "      <td>A series</td>\n",
              "      <td>2</td>\n",
              "      <td>a series</td>\n",
              "    </tr>\n",
              "    <tr>\n",
              "      <th>3</th>\n",
              "      <td>A</td>\n",
              "      <td>2</td>\n",
              "      <td>a</td>\n",
              "    </tr>\n",
              "    <tr>\n",
              "      <th>4</th>\n",
              "      <td>series</td>\n",
              "      <td>2</td>\n",
              "      <td>series</td>\n",
              "    </tr>\n",
              "  </tbody>\n",
              "</table>\n",
              "</div>"
            ],
            "text/plain": [
              "                                              Phrase  ...                                               Text\n",
              "0  A series of escapades demonstrating the adage ...  ...  a series of escapade demonstrating the adage t...\n",
              "1  A series of escapades demonstrating the adage ...  ...  a series of escapade demonstrating the adage t...\n",
              "2                                           A series  ...                                           a series\n",
              "3                                                  A  ...                                                  a\n",
              "4                                             series  ...                                             series\n",
              "\n",
              "[5 rows x 3 columns]"
            ]
          },
          "metadata": {
            "tags": []
          },
          "execution_count": 6
        }
      ]
    },
    {
      "cell_type": "code",
      "metadata": {
        "id": "aIwtbBVqBlQU",
        "colab_type": "code",
        "outputId": "4e3d07fb-b291-48f3-b53c-b9f7a092c073",
        "colab": {
          "base_uri": "https://localhost:8080/",
          "height": 50
        }
      },
      "source": [
        "# create training and testing vars\n",
        "x_train, x_test, y_train, y_test = train_test_split(data['Text'], data['Sentiment'], test_size=0.3, random_state=2003)\n",
        "print (x_train.shape, y_train.shape)\n",
        "print (x_test.shape, y_test.shape)"
      ],
      "execution_count": 0,
      "outputs": [
        {
          "output_type": "stream",
          "text": [
            "(109242,) (109242,)\n",
            "(46818,) (46818,)\n"
          ],
          "name": "stdout"
        }
      ]
    },
    {
      "cell_type": "code",
      "metadata": {
        "id": "iHTex30Mx_j9",
        "colab_type": "code",
        "outputId": "e1c81de9-4446-4df7-9a00-5fa103c12360",
        "colab": {
          "base_uri": "https://localhost:8080/",
          "height": 118
        }
      },
      "source": [
        "print(y_test.value_counts())"
      ],
      "execution_count": 0,
      "outputs": [
        {
          "output_type": "stream",
          "text": [
            "2    23987\n",
            "3     9872\n",
            "1     8070\n",
            "4     2738\n",
            "0     2151\n",
            "Name: Sentiment, dtype: int64\n"
          ],
          "name": "stdout"
        }
      ]
    },
    {
      "cell_type": "code",
      "metadata": {
        "id": "5l-m88ZgyniR",
        "colab_type": "code",
        "outputId": "cbec92f8-1f91-439b-8fbb-e2aba1d71234",
        "colab": {
          "base_uri": "https://localhost:8080/",
          "height": 134
        }
      },
      "source": [
        "y_test = to_categorical(y_test)\n",
        "print(y_test)"
      ],
      "execution_count": 0,
      "outputs": [
        {
          "output_type": "stream",
          "text": [
            "[[0. 0. 0. 1. 0.]\n",
            " [0. 0. 1. 0. 0.]\n",
            " [0. 0. 0. 1. 0.]\n",
            " ...\n",
            " [0. 1. 0. 0. 0.]\n",
            " [0. 0. 0. 1. 0.]\n",
            " [0. 0. 0. 1. 0.]]\n"
          ],
          "name": "stdout"
        }
      ]
    },
    {
      "cell_type": "code",
      "metadata": {
        "id": "SKDklEMYqW19",
        "colab_type": "code",
        "outputId": "e0ff0b50-e469-4f34-b8a2-61106fd7ff33",
        "colab": {
          "base_uri": "https://localhost:8080/",
          "height": 282
        }
      },
      "source": [
        "%matplotlib inline\n",
        "import matplotlib.pyplot as plt\n",
        "import seaborn as sns\n",
        "data['text_length'] = data['Text'].apply(len)\n",
        "data['text_length'].hist(bins=50)"
      ],
      "execution_count": 0,
      "outputs": [
        {
          "output_type": "execute_result",
          "data": {
            "text/plain": [
              "<matplotlib.axes._subplots.AxesSubplot at 0x7f2a949b4748>"
            ]
          },
          "metadata": {
            "tags": []
          },
          "execution_count": 10
        },
        {
          "output_type": "display_data",
          "data": {
            "image/png": "[encoded data removed]",
            "text/plain": [
              "<Figure size 432x288 with 1 Axes>"
            ]
          },
          "metadata": {
            "tags": []
          }
        }
      ]
    },
    {
      "cell_type": "code",
      "metadata": {
        "id": "uMD6sPZ5kUHQ",
        "colab_type": "code",
        "outputId": "6ff1cc3c-72e6-4e37-843d-1b0e5bc75696",
        "colab": {
          "base_uri": "https://localhost:8080/",
          "height": 296
        }
      },
      "source": [
        "sns.countplot(data['Sentiment'])"
      ],
      "execution_count": 0,
      "outputs": [
        {
          "output_type": "execute_result",
          "data": {
            "text/plain": [
              "<matplotlib.axes._subplots.AxesSubplot at 0x7f2a9a3e04e0>"
            ]
          },
          "metadata": {
            "tags": []
          },
          "execution_count": 11
        },
        {
          "output_type": "display_data",
          "data": {
            "image/png": "[encoded data removed]",
            "text/plain": [
              "<Figure size 432x288 with 1 Axes>"
            ]
          },
          "metadata": {
            "tags": []
          }
        }
      ]
    },
    {
      "cell_type": "code",
      "metadata": {
        "id": "gLK8qDAiweow",
        "colab_type": "code",
        "outputId": "0047ba66-22d6-4dc0-bd46-6d04a274b2a6",
        "colab": {
          "base_uri": "https://localhost:8080/",
          "height": 402
        }
      },
      "source": [
        "y_temp = y_train.tolist()\n",
        "x_temp = x_train.tolist() \n",
        "l = []\n",
        "for i in range(len(x_temp)):\n",
        "    temp = (x_temp[i],y_temp[i])\n",
        "    l.append(temp)\n",
        "trainData = pd.DataFrame(l,columns=['text', 'sentiment'])\n",
        "trainData.head(2000)"
      ],
      "execution_count": 0,
      "outputs": [
        {
          "output_type": "execute_result",
          "data": {
            "text/html": [
              "<div>\n",
              "<style scoped>\n",
              "    .dataframe tbody tr th:only-of-type {\n",
              "        vertical-align: middle;\n",
              "    }\n",
              "\n",
              "    .dataframe tbody tr th {\n",
              "        vertical-align: top;\n",
              "    }\n",
              "\n",
              "    .dataframe thead th {\n",
              "        text-align: right;\n",
              "    }\n",
              "</style>\n",
              "<table border=\"1\" class=\"dataframe\">\n",
              "  <thead>\n",
              "    <tr style=\"text-align: right;\">\n",
              "      <th></th>\n",
              "      <th>text</th>\n",
              "      <th>sentiment</th>\n",
              "    </tr>\n",
              "  </thead>\n",
              "  <tbody>\n",
              "    <tr>\n",
              "      <th>0</th>\n",
              "      <td>their age</td>\n",
              "      <td>2</td>\n",
              "    </tr>\n",
              "    <tr>\n",
              "      <th>1</th>\n",
              "      <td>gorgeous epic</td>\n",
              "      <td>4</td>\n",
              "    </tr>\n",
              "    <tr>\n",
              "      <th>2</th>\n",
              "      <td>fan of the gross out comedy</td>\n",
              "      <td>2</td>\n",
              "    </tr>\n",
              "    <tr>\n",
              "      <th>3</th>\n",
              "      <td>the filmmaker ascends literally to the olympus...</td>\n",
              "      <td>4</td>\n",
              "    </tr>\n",
              "    <tr>\n",
              "      <th>4</th>\n",
              "      <td>twisting mystery</td>\n",
              "      <td>2</td>\n",
              "    </tr>\n",
              "    <tr>\n",
              "      <th>...</th>\n",
              "      <td>...</td>\n",
              "      <td>...</td>\n",
              "    </tr>\n",
              "    <tr>\n",
              "      <th>1995</th>\n",
              "      <td>ratliff s two previous title plutonium circus ...</td>\n",
              "      <td>3</td>\n",
              "    </tr>\n",
              "    <tr>\n",
              "      <th>1996</th>\n",
              "      <td>giving up on dream when you re a struggling no...</td>\n",
              "      <td>2</td>\n",
              "    </tr>\n",
              "    <tr>\n",
              "      <th>1997</th>\n",
              "      <td>amy and matthew have a bit of a phony relation...</td>\n",
              "      <td>3</td>\n",
              "    </tr>\n",
              "    <tr>\n",
              "      <th>1998</th>\n",
              "      <td>the beast and</td>\n",
              "      <td>2</td>\n",
              "    </tr>\n",
              "    <tr>\n",
              "      <th>1999</th>\n",
              "      <td>how so many talented people were convinced to ...</td>\n",
              "      <td>0</td>\n",
              "    </tr>\n",
              "  </tbody>\n",
              "</table>\n",
              "<p>2000 rows × 2 columns</p>\n",
              "</div>"
            ],
            "text/plain": [
              "                                                   text  sentiment\n",
              "0                                             their age          2\n",
              "1                                         gorgeous epic          4\n",
              "2                           fan of the gross out comedy          2\n",
              "3     the filmmaker ascends literally to the olympus...          4\n",
              "4                                      twisting mystery          2\n",
              "...                                                 ...        ...\n",
              "1995  ratliff s two previous title plutonium circus ...          3\n",
              "1996  giving up on dream when you re a struggling no...          2\n",
              "1997  amy and matthew have a bit of a phony relation...          3\n",
              "1998                                      the beast and          2\n",
              "1999  how so many talented people were convinced to ...          0\n",
              "\n",
              "[2000 rows x 2 columns]"
            ]
          },
          "metadata": {
            "tags": []
          },
          "execution_count": 12
        }
      ]
    },
    {
      "cell_type": "code",
      "metadata": {
        "id": "c24uRA24wj7f",
        "colab_type": "code",
        "colab": {}
      },
      "source": [
        "from sklearn.utils import resample\n",
        "def Resample(trainingData, sentiment):\n",
        "  return resample(trainingData[trainingData['sentiment'] == sentiment],replace=True,n_samples=10000,random_state=2003)"
      ],
      "execution_count": 0,
      "outputs": []
    },
    {
      "cell_type": "code",
      "metadata": {
        "id": "sm3SZK0jwnCk",
        "colab_type": "code",
        "colab": {}
      },
      "source": [
        "temp = []\n",
        "for i in range(trainData['sentiment'].nunique()):\n",
        "  temp.insert(i,Resample(trainData,i))"
      ],
      "execution_count": 0,
      "outputs": []
    },
    {
      "cell_type": "code",
      "metadata": {
        "id": "qQQtWYeiwoYf",
        "colab_type": "code",
        "colab": {}
      },
      "source": [
        "data = pd.concat( temp [i] for i in range(len(temp)) )"
      ],
      "execution_count": 0,
      "outputs": []
    },
    {
      "cell_type": "code",
      "metadata": {
        "id": "GF31fqug1yWf",
        "colab_type": "code",
        "outputId": "08216fa4-f625-4aaf-926c-849bac098c39",
        "colab": {
          "base_uri": "https://localhost:8080/",
          "height": 402
        }
      },
      "source": [
        "data"
      ],
      "execution_count": 0,
      "outputs": [
        {
          "output_type": "execute_result",
          "data": {
            "text/html": [
              "<div>\n",
              "<style scoped>\n",
              "    .dataframe tbody tr th:only-of-type {\n",
              "        vertical-align: middle;\n",
              "    }\n",
              "\n",
              "    .dataframe tbody tr th {\n",
              "        vertical-align: top;\n",
              "    }\n",
              "\n",
              "    .dataframe thead th {\n",
              "        text-align: right;\n",
              "    }\n",
              "</style>\n",
              "<table border=\"1\" class=\"dataframe\">\n",
              "  <thead>\n",
              "    <tr style=\"text-align: right;\">\n",
              "      <th></th>\n",
              "      <th>text</th>\n",
              "      <th>sentiment</th>\n",
              "    </tr>\n",
              "  </thead>\n",
              "  <tbody>\n",
              "    <tr>\n",
              "      <th>20682</th>\n",
              "      <td>insufferably naive</td>\n",
              "      <td>0</td>\n",
              "    </tr>\n",
              "    <tr>\n",
              "      <th>102786</th>\n",
              "      <td>the worst film of the year</td>\n",
              "      <td>0</td>\n",
              "    </tr>\n",
              "    <tr>\n",
              "      <th>51945</th>\n",
              "      <td>a deadly bore</td>\n",
              "      <td>0</td>\n",
              "    </tr>\n",
              "    <tr>\n",
              "      <th>56380</th>\n",
              "      <td>s it s simply unbearable</td>\n",
              "      <td>0</td>\n",
              "    </tr>\n",
              "    <tr>\n",
              "      <th>93678</th>\n",
              "      <td>is not really a film a much a it is a loose co...</td>\n",
              "      <td>0</td>\n",
              "    </tr>\n",
              "    <tr>\n",
              "      <th>...</th>\n",
              "      <td>...</td>\n",
              "      <td>...</td>\n",
              "    </tr>\n",
              "    <tr>\n",
              "      <th>106734</th>\n",
              "      <td>is the ultimate movie experience</td>\n",
              "      <td>4</td>\n",
              "    </tr>\n",
              "    <tr>\n",
              "      <th>74344</th>\n",
              "      <td>stanley kwan ha directed not only one of the b...</td>\n",
              "      <td>4</td>\n",
              "    </tr>\n",
              "    <tr>\n",
              "      <th>108590</th>\n",
              "      <td>at once visceral and spiritual wonderfully vulgar</td>\n",
              "      <td>4</td>\n",
              "    </tr>\n",
              "    <tr>\n",
              "      <th>99839</th>\n",
              "      <td>a zinger filled crowd pleaser that open minded...</td>\n",
              "      <td>4</td>\n",
              "    </tr>\n",
              "    <tr>\n",
              "      <th>105702</th>\n",
              "      <td>tie together beautifully</td>\n",
              "      <td>4</td>\n",
              "    </tr>\n",
              "  </tbody>\n",
              "</table>\n",
              "<p>50000 rows × 2 columns</p>\n",
              "</div>"
            ],
            "text/plain": [
              "                                                     text  sentiment\n",
              "20682                                  insufferably naive          0\n",
              "102786                         the worst film of the year          0\n",
              "51945                                       a deadly bore          0\n",
              "56380                            s it s simply unbearable          0\n",
              "93678   is not really a film a much a it is a loose co...          0\n",
              "...                                                   ...        ...\n",
              "106734                   is the ultimate movie experience          4\n",
              "74344   stanley kwan ha directed not only one of the b...          4\n",
              "108590  at once visceral and spiritual wonderfully vulgar          4\n",
              "99839   a zinger filled crowd pleaser that open minded...          4\n",
              "105702                           tie together beautifully          4\n",
              "\n",
              "[50000 rows x 2 columns]"
            ]
          },
          "metadata": {
            "tags": []
          },
          "execution_count": 16
        }
      ]
    },
    {
      "cell_type": "code",
      "metadata": {
        "id": "N_1L8Ckpw5_2",
        "colab_type": "code",
        "colab": {}
      },
      "source": [
        "x_train = data['text']\n",
        "y_train = to_categorical(data['sentiment'].values)"
      ],
      "execution_count": 0,
      "outputs": []
    },
    {
      "cell_type": "code",
      "metadata": {
        "id": "SDCrJiTcyzv_",
        "colab_type": "code",
        "outputId": "41effbb5-1f63-45bc-e3b9-a390ddf55b2b",
        "colab": {
          "base_uri": "https://localhost:8080/",
          "height": 218
        }
      },
      "source": [
        "x_train"
      ],
      "execution_count": 0,
      "outputs": [
        {
          "output_type": "execute_result",
          "data": {
            "text/plain": [
              "20682                                    insufferably naive\n",
              "102786                           the worst film of the year\n",
              "51945                                         a deadly bore\n",
              "56380                              s it s simply unbearable\n",
              "93678     is not really a film a much a it is a loose co...\n",
              "                                ...                        \n",
              "106734                     is the ultimate movie experience\n",
              "74344     stanley kwan ha directed not only one of the b...\n",
              "108590    at once visceral and spiritual wonderfully vulgar\n",
              "99839     a zinger filled crowd pleaser that open minded...\n",
              "105702                             tie together beautifully\n",
              "Name: text, Length: 50000, dtype: object"
            ]
          },
          "metadata": {
            "tags": []
          },
          "execution_count": 18
        }
      ]
    },
    {
      "cell_type": "code",
      "metadata": {
        "id": "P6LZQlIseshH",
        "colab_type": "code",
        "outputId": "36589f0e-3517-4b48-8228-ac3e412f1368",
        "colab": {
          "base_uri": "https://localhost:8080/",
          "height": 34
        }
      },
      "source": [
        "unique_word = len(np.unique(x_train))\n",
        "print(unique_word)"
      ],
      "execution_count": 0,
      "outputs": [
        {
          "output_type": "stream",
          "text": [
            "12785\n"
          ],
          "name": "stdout"
        }
      ]
    },
    {
      "cell_type": "code",
      "metadata": {
        "id": "ZUqyPXZq4YMP",
        "colab_type": "code",
        "colab": {}
      },
      "source": [
        "lenW = []\n",
        "for i in x_train:#x_train['Text']\n",
        "   # print(i)\n",
        "    l = len(word_tokenize(i))\n",
        "    lenW.append(l)  \n",
        "maxLength=np.max(lenW)"
      ],
      "execution_count": 0,
      "outputs": []
    },
    {
      "cell_type": "code",
      "metadata": {
        "id": "lv8Vor15nugh",
        "colab_type": "code",
        "outputId": "ba2adae0-a8f2-4f9f-bb4b-73715f9554b7",
        "colab": {
          "base_uri": "https://localhost:8080/",
          "height": 34
        }
      },
      "source": [
        "print(maxLength)"
      ],
      "execution_count": 0,
      "outputs": [
        {
          "output_type": "stream",
          "text": [
            "48\n"
          ],
          "name": "stdout"
        }
      ]
    },
    {
      "cell_type": "code",
      "metadata": {
        "id": "ak5qBv6Wjega",
        "colab_type": "code",
        "colab": {}
      },
      "source": [
        "tokenizer = Tokenizer(num_words=unique_word)\n",
        "tokenizer.fit_on_texts(x_train)#x_train['Text']\n",
        "x_train = tokenizer.texts_to_sequences(x_train)#x_train['Text']\n",
        "x_test = tokenizer.texts_to_sequences(x_test)#x_train['Text']\n",
        "#print(x_train.shape,x_test.shape)"
      ],
      "execution_count": 0,
      "outputs": []
    },
    {
      "cell_type": "code",
      "metadata": {
        "id": "RmeBDbZstiyq",
        "colab_type": "code",
        "outputId": "31561d01-9c43-496f-ac59-bfb2df5f6e57",
        "colab": {
          "base_uri": "https://localhost:8080/",
          "height": 34
        }
      },
      "source": [
        "x_train = sequence.pad_sequences(x_train, maxlen=maxLength)\n",
        "x_test = sequence.pad_sequences(x_test, maxlen=maxLength)\n",
        "print(x_train.shape,y_train.shape)"
      ],
      "execution_count": 0,
      "outputs": [
        {
          "output_type": "stream",
          "text": [
            "(50000, 48) (50000, 5)\n"
          ],
          "name": "stdout"
        }
      ]
    },
    {
      "cell_type": "code",
      "metadata": {
        "id": "bdMAHraUxdva",
        "colab_type": "code",
        "colab": {}
      },
      "source": [
        "out_class= data['sentiment'].nunique()"
      ],
      "execution_count": 0,
      "outputs": []
    },
    {
      "cell_type": "code",
      "metadata": {
        "id": "PqbmFiYfxZm5",
        "colab_type": "code",
        "outputId": "bc897244-d620-438c-8cfa-3e1bc0ae9236",
        "colab": {
          "base_uri": "https://localhost:8080/",
          "height": 487
        }
      },
      "source": [
        "model = Sequential()\n",
        "model.add(Embedding(unique_word, 150, input_length = maxLength))\n",
        "model.add(Conv1D(32,kernel_size=3, padding='same', activation='relu'))\n",
        "model.add(MaxPooling1D(pool_size=2))\n",
        "model.add(Conv1D(64, kernel_size=3, padding='same', activation='relu'))\n",
        "model.add(MaxPooling1D(pool_size=2))\n",
        "model.add(Conv1D(64, kernel_size=3, padding='same', activation='relu'))\n",
        "model.add(MaxPooling1D(pool_size=2))\n",
        "model.add(Conv1D(64, kernel_size=3, padding='same', activation='relu'))\n",
        "model.add(MaxPooling1D(pool_size=2))\n",
        "model.add(Flatten())\n",
        "model.summary()\n",
        "model.add(Dense(out_class, activation='sigmoid'))"
      ],
      "execution_count": 0,
      "outputs": [
        {
          "output_type": "stream",
          "text": [
            "Model: \"sequential_2\"\n",
            "_________________________________________________________________\n",
            "Layer (type)                 Output Shape              Param #   \n",
            "=================================================================\n",
            "embedding_2 (Embedding)      (None, 48, 150)           1917750   \n",
            "_________________________________________________________________\n",
            "conv1d_5 (Conv1D)            (None, 48, 32)            14432     \n",
            "_________________________________________________________________\n",
            "max_pooling1d_5 (MaxPooling1 (None, 24, 32)            0         \n",
            "_________________________________________________________________\n",
            "conv1d_6 (Conv1D)            (None, 24, 64)            6208      \n",
            "_________________________________________________________________\n",
            "max_pooling1d_6 (MaxPooling1 (None, 12, 64)            0         \n",
            "_________________________________________________________________\n",
            "conv1d_7 (Conv1D)            (None, 12, 64)            12352     \n",
            "_________________________________________________________________\n",
            "max_pooling1d_7 (MaxPooling1 (None, 6, 64)             0         \n",
            "_________________________________________________________________\n",
            "conv1d_8 (Conv1D)            (None, 6, 64)             12352     \n",
            "_________________________________________________________________\n",
            "max_pooling1d_8 (MaxPooling1 (None, 3, 64)             0         \n",
            "_________________________________________________________________\n",
            "flatten_2 (Flatten)          (None, 192)               0         \n",
            "=================================================================\n",
            "Total params: 1,963,094\n",
            "Trainable params: 1,963,094\n",
            "Non-trainable params: 0\n",
            "_________________________________________________________________\n"
          ],
          "name": "stdout"
        }
      ]
    },
    {
      "cell_type": "code",
      "metadata": {
        "id": "aqAZTjCrXi0J",
        "colab_type": "code",
        "outputId": "7450ed31-2e24-4452-bd8d-da4679fdab0f",
        "colab": {
          "base_uri": "https://localhost:8080/",
          "height": 34
        }
      },
      "source": [
        "print(x_test.shape, y_test.shape)"
      ],
      "execution_count": 0,
      "outputs": [
        {
          "output_type": "stream",
          "text": [
            "(46818, 48) (46818, 5)\n"
          ],
          "name": "stdout"
        }
      ]
    },
    {
      "cell_type": "code",
      "metadata": {
        "id": "NdJcYAWledRP",
        "colab_type": "code",
        "outputId": "73f5b782-01dd-47b1-94f7-1374185bfd9d",
        "colab": {
          "base_uri": "https://localhost:8080/",
          "height": 910
        }
      },
      "source": [
        "model.compile(loss='binary_crossentropy', optimizer='adamax', metrics=['accuracy',keras_metrics.precision(), keras_metrics.recall()])\n",
        "model.fit(x_train, y_train, validation_data=(x_test, y_test), epochs=50, batch_size=512, verbose=1)"
      ],
      "execution_count": 0,
      "outputs": [
        {
          "output_type": "stream",
          "text": [
            "Train on 50000 samples, validate on 46818 samples\n",
            "Epoch 1/25\n",
            "50000/50000 [==============================] - 11s 225us/step - loss: 1.5150 - acc: 0.3195 - precision: 0.2755 - recall: 0.4066 - val_loss: 1.3656 - val_acc: 0.4611 - val_precision: 0.1368 - val_recall: 0.0688\n",
            "Epoch 2/25\n",
            "50000/50000 [==============================] - 11s 220us/step - loss: 1.2342 - acc: 0.4759 - precision: 0.3973 - recall: 0.0029 - val_loss: 1.3178 - val_acc: 0.4506 - val_precision: 0.0000e+00 - val_recall: 0.0000e+00\n",
            "Epoch 3/25\n",
            "50000/50000 [==============================] - 11s 223us/step - loss: 1.0318 - acc: 0.5787 - precision: 1.0000 - recall: 5.0000e-04 - val_loss: 1.1676 - val_acc: 0.5242 - val_precision: 0.6667 - val_recall: 0.0056\n",
            "Epoch 4/25\n",
            "50000/50000 [==============================] - 11s 228us/step - loss: 0.8209 - acc: 0.6724 - precision: 0.8255 - recall: 0.0123 - val_loss: 1.0913 - val_acc: 0.5522 - val_precision: 0.6618 - val_recall: 0.0209\n",
            "Epoch 5/25\n",
            "50000/50000 [==============================] - 11s 228us/step - loss: 0.6929 - acc: 0.7300 - precision: 0.8809 - recall: 0.0244 - val_loss: 1.1633 - val_acc: 0.5338 - val_precision: 0.7297 - val_recall: 0.0126\n",
            "Epoch 6/25\n",
            "50000/50000 [==============================] - 11s 220us/step - loss: 0.6071 - acc: 0.7695 - precision: 0.8791 - recall: 0.0298 - val_loss: 1.2151 - val_acc: 0.5251 - val_precision: 0.6292 - val_recall: 0.0260\n",
            "Epoch 7/25\n",
            "50000/50000 [==============================] - 11s 218us/step - loss: 0.5417 - acc: 0.7983 - precision: 0.8805 - recall: 0.0361 - val_loss: 1.2715 - val_acc: 0.5289 - val_precision: 0.6200 - val_recall: 0.0288\n",
            "Epoch 8/25\n",
            "50000/50000 [==============================] - 11s 218us/step - loss: 0.4853 - acc: 0.8213 - precision: 0.8860 - recall: 0.0373 - val_loss: 1.3278 - val_acc: 0.5248 - val_precision: 0.5818 - val_recall: 0.0595\n",
            "Epoch 9/25\n",
            "50000/50000 [==============================] - 11s 216us/step - loss: 0.4301 - acc: 0.8459 - precision: 0.8916 - recall: 0.0444 - val_loss: 1.3555 - val_acc: 0.5422 - val_precision: 0.5695 - val_recall: 0.0400\n",
            "Epoch 10/25\n",
            "50000/50000 [==============================] - 11s 215us/step - loss: 0.3866 - acc: 0.8635 - precision: 0.9015 - recall: 0.0494 - val_loss: 1.5486 - val_acc: 0.5108 - val_precision: 0.5672 - val_recall: 0.0530\n",
            "Epoch 11/25\n",
            "50000/50000 [==============================] - 11s 220us/step - loss: 0.3426 - acc: 0.8799 - precision: 0.9057 - recall: 0.0576 - val_loss: 1.5465 - val_acc: 0.5351 - val_precision: 0.6296 - val_recall: 0.0395\n",
            "Epoch 12/25\n",
            "50000/50000 [==============================] - 11s 214us/step - loss: 0.3126 - acc: 0.8906 - precision: 0.9110 - recall: 0.0604 - val_loss: 1.6417 - val_acc: 0.5319 - val_precision: 0.5707 - val_recall: 0.0525\n",
            "Epoch 13/25\n",
            "50000/50000 [==============================] - 11s 216us/step - loss: 0.2757 - acc: 0.9051 - precision: 0.9101 - recall: 0.0628 - val_loss: 1.7887 - val_acc: 0.5196 - val_precision: 0.5771 - val_recall: 0.0609\n",
            "Epoch 14/25\n",
            "50000/50000 [==============================] - 11s 215us/step - loss: 0.2508 - acc: 0.9133 - precision: 0.9119 - recall: 0.0683 - val_loss: 1.8655 - val_acc: 0.5245 - val_precision: 0.5928 - val_recall: 0.0609\n",
            "Epoch 15/25\n",
            "50000/50000 [==============================] - 11s 215us/step - loss: 0.2320 - acc: 0.9208 - precision: 0.9232 - recall: 0.0769 - val_loss: 2.0792 - val_acc: 0.5024 - val_precision: 0.5457 - val_recall: 0.0860\n",
            "Epoch 16/25\n",
            "50000/50000 [==============================] - 11s 216us/step - loss: 0.2100 - acc: 0.9288 - precision: 0.9196 - recall: 0.0743 - val_loss: 2.1644 - val_acc: 0.5037 - val_precision: 0.5825 - val_recall: 0.0558\n",
            "Epoch 17/25\n",
            "50000/50000 [==============================] - 11s 218us/step - loss: 0.1932 - acc: 0.9338 - precision: 0.9193 - recall: 0.0809 - val_loss: 2.1181 - val_acc: 0.5330 - val_precision: 0.6225 - val_recall: 0.0590\n",
            "Epoch 18/25\n",
            "50000/50000 [==============================] - 11s 216us/step - loss: 0.1834 - acc: 0.9388 - precision: 0.9204 - recall: 0.0832 - val_loss: 2.2097 - val_acc: 0.5320 - val_precision: 0.5687 - val_recall: 0.0693\n",
            "Epoch 19/25\n",
            "50000/50000 [==============================] - 11s 219us/step - loss: 0.1739 - acc: 0.9422 - precision: 0.9274 - recall: 0.0856 - val_loss: 2.3252 - val_acc: 0.5225 - val_precision: 0.5623 - val_recall: 0.0986\n",
            "Epoch 20/25\n",
            "50000/50000 [==============================] - 11s 217us/step - loss: 0.1640 - acc: 0.9459 - precision: 0.9177 - recall: 0.0836 - val_loss: 2.2921 - val_acc: 0.5371 - val_precision: 0.5310 - val_recall: 0.0916\n",
            "Epoch 21/25\n",
            "50000/50000 [==============================] - 11s 217us/step - loss: 0.1509 - acc: 0.9517 - precision: 0.9145 - recall: 0.0899 - val_loss: 2.5025 - val_acc: 0.5324 - val_precision: 0.5880 - val_recall: 0.0776\n",
            "Epoch 22/25\n",
            "50000/50000 [==============================] - 11s 215us/step - loss: 0.1476 - acc: 0.9520 - precision: 0.9210 - recall: 0.0967 - val_loss: 2.8180 - val_acc: 0.5158 - val_precision: 0.5989 - val_recall: 0.0493\n",
            "Epoch 23/25\n",
            "50000/50000 [==============================] - 11s 215us/step - loss: 0.1477 - acc: 0.9518 - precision: 0.9188 - recall: 0.0928 - val_loss: 2.8483 - val_acc: 0.5020 - val_precision: 0.5517 - val_recall: 0.1041\n",
            "Epoch 24/25\n",
            "50000/50000 [==============================] - 11s 213us/step - loss: 0.1390 - acc: 0.9556 - precision: 0.9213 - recall: 0.0901 - val_loss: 2.6855 - val_acc: 0.5429 - val_precision: 0.5887 - val_recall: 0.0725\n",
            "Epoch 25/25\n",
            "50000/50000 [==============================] - 11s 214us/step - loss: 0.1342 - acc: 0.9575 - precision: 0.9174 - recall: 0.0978 - val_loss: 3.2374 - val_acc: 0.4994 - val_precision: 0.5900 - val_recall: 0.0656\n"
          ],
          "name": "stdout"
        },
        {
          "output_type": "execute_result",
          "data": {
            "text/plain": [
              "<keras.callbacks.History at 0x7f2a94031278>"
            ]
          },
          "metadata": {
            "tags": []
          },
          "execution_count": 29
        }
      ]
    },
    {
      "cell_type": "code",
      "metadata": {
        "id": "gar0RizqNawd",
        "colab_type": "code",
        "colab": {}
      },
      "source": [
        "import keras\n",
        "from keras.models import load_model\n",
        "model.save('1111075_1dconv_reg.h5')"
      ],
      "execution_count": 0,
      "outputs": []
    },
    {
      "cell_type": "markdown",
      "metadata": {
        "id": "UB6InH9zpytK",
        "colab_type": "text"
      },
      "source": [
        "To check if its saved you can delete the existing model"
      ]
    },
    {
      "cell_type": "code",
      "metadata": {
        "id": "O3QrxAGxpw-V",
        "colab_type": "code",
        "colab": {}
      },
      "source": [
        "del model"
      ],
      "execution_count": 0,
      "outputs": []
    },
    {
      "cell_type": "code",
      "metadata": {
        "id": "nzWtUP1nPdZ5",
        "colab_type": "code",
        "colab": {}
      },
      "source": [
        "models = load_model('1111075_1dconv_reg.h5')\n",
        "#or\n",
        "models = load_model('1111075_1dconv_reg.h5',{'binary_precision':keras_metrics.binary_precision(), 'binary_recall':keras_metrics.binary_recall()})"
      ],
      "execution_count": 0,
      "outputs": []
    },
    {
      "cell_type": "code",
      "metadata": {
        "id": "auz2pzRmtCV5",
        "colab_type": "code",
        "colab": {}
      },
      "source": [
        "loss, acc, prec, recall = models.evaluate(x_test, y_test, verbose=0)"
      ],
      "execution_count": 0,
      "outputs": []
    },
    {
      "cell_type": "code",
      "metadata": {
        "id": "hFlGpPiUqji7",
        "colab_type": "code",
        "outputId": "77572e5f-7cd0-4971-b8b9-e51d8b4cf04c",
        "colab": {
          "base_uri": "https://localhost:8080/",
          "height": 34
        }
      },
      "source": [
        "f1_score = (prec*recall)/(prec+recall)\n",
        "print(acc,(2 *f1_score))"
      ],
      "execution_count": 0,
      "outputs": [
        {
          "output_type": "stream",
          "text": [
            "0.4994019394250075 0.11799163178928941\n"
          ],
          "name": "stdout"
        }
      ]
    }
  ]
}